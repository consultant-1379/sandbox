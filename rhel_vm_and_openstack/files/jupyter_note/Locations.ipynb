{
 "cells": [
  {
   "cell_type": "markdown",
   "metadata": {
    "toc": "true"
   },
   "source": [
    "# Table of Contents\n",
    " <p><div class=\"lev1 toc-item\"><a href=\"#Location-History\" data-toc-modified-id=\"Location-History-1\"><span class=\"toc-item-num\">1&nbsp;&nbsp;</span>Location History</a></div><div class=\"lev2 toc-item\"><a href=\"#Loading-Google-Location-History\" data-toc-modified-id=\"Loading-Google-Location-History-11\"><span class=\"toc-item-num\">1.1&nbsp;&nbsp;</span>Loading Google Location History</a></div><div class=\"lev2 toc-item\"><a href=\"#Per-day-clustering-and-centroid-determination\" data-toc-modified-id=\"Per-day-clustering-and-centroid-determination-12\"><span class=\"toc-item-num\">1.2&nbsp;&nbsp;</span>Per day clustering and centroid determination</a></div><div class=\"lev2 toc-item\"><a href=\"#Clustering-of-all-days\" data-toc-modified-id=\"Clustering-of-all-days-13\"><span class=\"toc-item-num\">1.3&nbsp;&nbsp;</span>Clustering of all days</a></div><div class=\"lev2 toc-item\"><a href=\"#Calculation-of-the-overall-centroids\" data-toc-modified-id=\"Calculation-of-the-overall-centroids-14\"><span class=\"toc-item-num\">1.4&nbsp;&nbsp;</span>Calculation of the overall centroids</a></div><div class=\"lev2 toc-item\"><a href=\"#Calculation-of-the-presence-time-per-day-of-the-week\" data-toc-modified-id=\"Calculation-of-the-presence-time-per-day-of-the-week-15\"><span class=\"toc-item-num\">1.5&nbsp;&nbsp;</span>Calculation of the presence time per day of the week</a></div><div class=\"lev2 toc-item\"><a href=\"#Display-the-clusters-locations-on-the-map\" data-toc-modified-id=\"Display-the-clusters-locations-on-the-map-16\"><span class=\"toc-item-num\">1.6&nbsp;&nbsp;</span>Display the clusters locations on the map</a></div>"
   ]
  },
  {
   "cell_type": "markdown",
   "metadata": {
    "slideshow": {
     "slide_type": "slide"
    }
   },
   "source": [
    "# Location History\n",
    "In this notebook I show how I used clustering techniques to get the locations I spend the most time at. As well I'm showing the hours of the day per week day I was at those locations."
   ]
  },
  {
   "cell_type": "markdown",
   "metadata": {
    "slideshow": {
     "slide_type": "slide"
    }
   },
   "source": [
    "## Loading Google Location History\n",
    "First I downloaded as JSON my location history from google at: https://takeout.google.com/settings/takeout\n",
    "The next step is to take in that data, in my case 500547 location data points."
   ]
  },
  {
   "cell_type": "code",
   "execution_count": 1,
   "metadata": {
    "ExecuteTime": {
     "end_time": "2016-12-08T11:49:20.714211",
     "start_time": "2016-12-08T11:47:23.988421"
    },
    "collapsed": false,
    "slideshow": {
     "slide_type": "slide"
    }
   },
   "outputs": [
    {
     "name": "stdout",
     "output_type": "stream",
     "text": [
      "500547 locations loaded in \"data\".\n"
     ]
    },
    {
     "data": {
      "text/html": [
       "<div>\n",
       "<table border=\"1\" class=\"dataframe\">\n",
       "  <thead>\n",
       "    <tr style=\"text-align: right;\">\n",
       "      <th></th>\n",
       "      <th>lat</th>\n",
       "      <th>lon</th>\n",
       "    </tr>\n",
       "    <tr>\n",
       "      <th>timestamp</th>\n",
       "      <th></th>\n",
       "      <th></th>\n",
       "    </tr>\n",
       "  </thead>\n",
       "  <tbody>\n",
       "    <tr>\n",
       "      <th>2015-03-28 15:45:28.653000-04:00</th>\n",
       "      <td>45.909298</td>\n",
       "      <td>-74.917595</td>\n",
       "    </tr>\n",
       "    <tr>\n",
       "      <th>2015-03-28 15:44:27.996000-04:00</th>\n",
       "      <td>45.909298</td>\n",
       "      <td>-74.917595</td>\n",
       "    </tr>\n",
       "    <tr>\n",
       "      <th>2015-03-28 15:43:26.793000-04:00</th>\n",
       "      <td>45.909298</td>\n",
       "      <td>-74.917595</td>\n",
       "    </tr>\n",
       "    <tr>\n",
       "      <th>2015-03-28 15:42:25.765000-04:00</th>\n",
       "      <td>45.909298</td>\n",
       "      <td>-74.917595</td>\n",
       "    </tr>\n",
       "  </tbody>\n",
       "</table>\n",
       "</div>"
      ],
      "text/plain": [
       "                                        lat        lon\n",
       "timestamp                                             \n",
       "2015-03-28 15:45:28.653000-04:00  45.909298 -74.917595\n",
       "2015-03-28 15:44:27.996000-04:00  45.909298 -74.917595\n",
       "2015-03-28 15:43:26.793000-04:00  45.909298 -74.917595\n",
       "2015-03-28 15:42:25.765000-04:00  45.909298 -74.917595"
      ]
     },
     "execution_count": 1,
     "metadata": {},
     "output_type": "execute_result"
    }
   ],
   "source": [
    "'''\n",
    "Loading the location data\n",
    "'''\n",
    "\n",
    "import json\n",
    "import pandas as pd\n",
    "\n",
    "filename = 'LocationHistory.json'\n",
    "\n",
    "# Open the location history\n",
    "with open(filename) as data_file:\n",
    "    loc_data = json.load(data_file)\n",
    "\n",
    "# Creating the data frame of locations\n",
    "locations=[]\n",
    "for loc in loc_data['locations']:\n",
    "    tmp = {}\n",
    "    tmp['timestamp'] = pd.to_datetime(int(loc['timestampMs']), unit='ms').tz_localize('utc').tz_convert('US/Eastern')\n",
    "    tmp['lat'] = loc['latitudeE7']/10000000\n",
    "    tmp['lon'] = loc['longitudeE7']/10000000\n",
    "    locations.append(tmp)\n",
    "data = pd.DataFrame(locations)\n",
    "data = data.set_index('timestamp')\n",
    "\n",
    "print('{} locations loaded in \"data\".'.format(len(data)))\n",
    "data.head(4)"
   ]
  },
  {
   "cell_type": "markdown",
   "metadata": {
    "slideshow": {
     "slide_type": "slide"
    }
   },
   "source": [
    "## Per day clustering and centroid determination\n",
    "Since that number of data points is just too much to do clustering on it all, I decided on an approach where I first cluster the data on a per day basis. In a next step we will cluster all days together. In order to be able to do analysis on the times at locations we will also record the \"hours\" where the location was measured (this is crude but sufficient for the purpose). Eventually with that times information more could be done, like a clustering / analysis of when I'm at those locations, or if clusters move with time, etc. But let's stay on the basics for now."
   ]
  },
  {
   "cell_type": "code",
   "execution_count": 2,
   "metadata": {
    "ExecuteTime": {
     "end_time": "2016-12-08T11:50:32.390018",
     "start_time": "2016-12-08T11:49:28.669158"
    },
    "collapsed": false,
    "scrolled": true,
    "slideshow": {
     "slide_type": "slide"
    }
   },
   "outputs": [
    {
     "name": "stdout",
     "output_type": "stream",
     "text": [
      "1721 centroids of locations kept in \"centroids\".\n"
     ]
    },
    {
     "data": {
      "text/html": [
       "<div>\n",
       "<table border=\"1\" class=\"dataframe\">\n",
       "  <thead>\n",
       "    <tr style=\"text-align: right;\">\n",
       "      <th></th>\n",
       "      <th>lat</th>\n",
       "      <th>lon</th>\n",
       "      <th>hour</th>\n",
       "      <th>times</th>\n",
       "    </tr>\n",
       "    <tr>\n",
       "      <th>timestamp</th>\n",
       "      <th></th>\n",
       "      <th></th>\n",
       "      <th></th>\n",
       "      <th></th>\n",
       "    </tr>\n",
       "  </thead>\n",
       "  <tbody>\n",
       "    <tr>\n",
       "      <th>2011-12-14</th>\n",
       "      <td>45.507178</td>\n",
       "      <td>-73.831019</td>\n",
       "      <td>20.900000</td>\n",
       "      <td>{18, 20, 21, 22, 23}</td>\n",
       "    </tr>\n",
       "    <tr>\n",
       "      <th>2011-12-14</th>\n",
       "      <td>45.531191</td>\n",
       "      <td>-73.818560</td>\n",
       "      <td>20.333333</td>\n",
       "      <td>{17, 19, 20, 21, 22, 23}</td>\n",
       "    </tr>\n",
       "    <tr>\n",
       "      <th>2011-12-14</th>\n",
       "      <td>45.503960</td>\n",
       "      <td>-73.664508</td>\n",
       "      <td>11.100000</td>\n",
       "      <td>{7, 9, 10, 11, 13, 15}</td>\n",
       "    </tr>\n",
       "    <tr>\n",
       "      <th>2011-12-15</th>\n",
       "      <td>45.507178</td>\n",
       "      <td>-73.831019</td>\n",
       "      <td>8.642857</td>\n",
       "      <td>{0, 2, 3, 4, 5, 6, 8, 20, 22, 23}</td>\n",
       "    </tr>\n",
       "  </tbody>\n",
       "</table>\n",
       "</div>"
      ],
      "text/plain": [
       "                  lat        lon       hour                              times\n",
       "timestamp                                                                     \n",
       "2011-12-14  45.507178 -73.831019  20.900000               {18, 20, 21, 22, 23}\n",
       "2011-12-14  45.531191 -73.818560  20.333333           {17, 19, 20, 21, 22, 23}\n",
       "2011-12-14  45.503960 -73.664508  11.100000             {7, 9, 10, 11, 13, 15}\n",
       "2011-12-15  45.507178 -73.831019   8.642857  {0, 2, 3, 4, 5, 6, 8, 20, 22, 23}"
      ]
     },
     "execution_count": 2,
     "metadata": {},
     "output_type": "execute_result"
    }
   ],
   "source": [
    "'''\n",
    "As we have too much data for our VM to handle it, we will do a per day clustering, then\n",
    "another clustering for all days on top of it.\n",
    "'''\n",
    "\n",
    "from datetime import timedelta\n",
    "from sklearn.cluster import DBSCAN\n",
    "from geopy.distance import great_circle\n",
    "import numpy as np\n",
    "\n",
    "kms_per_radian = 6371.0088\n",
    "epsilon = .25 / kms_per_radian\n",
    "\n",
    "tmin = data.index.min()\n",
    "tmin = pd.to_datetime('{}-{}-{}'.format(tmin.year,tmin.month,tmin.day))\n",
    "tmax = data.index.max()\n",
    "tmax = pd.to_datetime('{}-{}-{}'.format(tmax.year,tmax.month,tmax.day))+timedelta(days=1)\n",
    "\n",
    "rng = pd.date_range(tmin,tmax)\n",
    "\n",
    "centroids = pd.DataFrame(columns=['lat','lon'])\n",
    "for d in rng:\n",
    "    ds = '{}-{}-{}'.format(d.year,d.month,d.day)\n",
    "    X = data[ds].reset_index()\n",
    "    if len(X)>0:\n",
    "        coordinates=X[['lat','lon']].values\n",
    "        minSamples = len(X)/10\n",
    "        db = DBSCAN(eps=epsilon, min_samples=minSamples, algorithm='ball_tree', metric='haversine').fit(np.radians(coordinates))\n",
    "        y = db.labels_\n",
    "        Y = pd.DataFrame(y, columns=['label'])\n",
    "        res = pd.concat([X,Y], axis=1)\n",
    "        res['hour']=res['timestamp'].apply(lambda ts:ts.hour)\n",
    "        n_clusters = len(set(res['label'])) - (1 if -1 in set(res['label']) else 0)\n",
    "        for i in range(n_clusters):\n",
    "            el = res[res['label'] == i].mean(axis=0).drop('label')\n",
    "            el['times']=set(res[res['label'] == i]['hour'].values)\n",
    "            el['timestamp'] = ds\n",
    "            centroids = centroids.append(el, ignore_index=True)\n",
    "centroids = centroids.set_index('timestamp')\n",
    "centroids.index = pd.to_datetime(centroids.index)\n",
    "\n",
    "print('{} centroids of locations kept in \"centroids\".'.format(len(centroids)))\n",
    "centroids.head(4)"
   ]
  },
  {
   "cell_type": "markdown",
   "metadata": {
    "slideshow": {
     "slide_type": "slide"
    }
   },
   "source": [
    "## Clustering of all days\n",
    "Now we cluster all the centroids of the per day clusters we determined at the previous step."
   ]
  },
  {
   "cell_type": "code",
   "execution_count": 3,
   "metadata": {
    "ExecuteTime": {
     "end_time": "2016-12-08T11:50:32.513551",
     "start_time": "2016-12-08T11:50:32.392298"
    },
    "collapsed": false,
    "slideshow": {
     "slide_type": "slide"
    }
   },
   "outputs": [
    {
     "name": "stdout",
     "output_type": "stream",
     "text": [
      "List of generated labels for 4 clusters: {0, 1, 2, -1}\n"
     ]
    },
    {
     "data": {
      "text/html": [
       "<div>\n",
       "<table border=\"1\" class=\"dataframe\">\n",
       "  <thead>\n",
       "    <tr style=\"text-align: right;\">\n",
       "      <th></th>\n",
       "      <th>lat</th>\n",
       "      <th>lon</th>\n",
       "      <th>hour</th>\n",
       "      <th>times</th>\n",
       "      <th>label</th>\n",
       "    </tr>\n",
       "    <tr>\n",
       "      <th>timestamp</th>\n",
       "      <th></th>\n",
       "      <th></th>\n",
       "      <th></th>\n",
       "      <th></th>\n",
       "      <th></th>\n",
       "    </tr>\n",
       "  </thead>\n",
       "  <tbody>\n",
       "    <tr>\n",
       "      <th>2011-12-14</th>\n",
       "      <td>45.507178</td>\n",
       "      <td>-73.831019</td>\n",
       "      <td>20.900000</td>\n",
       "      <td>{18, 20, 21, 22, 23}</td>\n",
       "      <td>0</td>\n",
       "    </tr>\n",
       "    <tr>\n",
       "      <th>2011-12-14</th>\n",
       "      <td>45.531191</td>\n",
       "      <td>-73.818560</td>\n",
       "      <td>20.333333</td>\n",
       "      <td>{17, 19, 20, 21, 22, 23}</td>\n",
       "      <td>0</td>\n",
       "    </tr>\n",
       "    <tr>\n",
       "      <th>2011-12-14</th>\n",
       "      <td>45.503960</td>\n",
       "      <td>-73.664508</td>\n",
       "      <td>11.100000</td>\n",
       "      <td>{7, 9, 10, 11, 13, 15}</td>\n",
       "      <td>1</td>\n",
       "    </tr>\n",
       "    <tr>\n",
       "      <th>2011-12-15</th>\n",
       "      <td>45.507178</td>\n",
       "      <td>-73.831019</td>\n",
       "      <td>8.642857</td>\n",
       "      <td>{0, 2, 3, 4, 5, 6, 8, 20, 22, 23}</td>\n",
       "      <td>0</td>\n",
       "    </tr>\n",
       "  </tbody>\n",
       "</table>\n",
       "</div>"
      ],
      "text/plain": [
       "                  lat        lon       hour  \\\n",
       "timestamp                                     \n",
       "2011-12-14  45.507178 -73.831019  20.900000   \n",
       "2011-12-14  45.531191 -73.818560  20.333333   \n",
       "2011-12-14  45.503960 -73.664508  11.100000   \n",
       "2011-12-15  45.507178 -73.831019   8.642857   \n",
       "\n",
       "                                        times  label  \n",
       "timestamp                                             \n",
       "2011-12-14               {18, 20, 21, 22, 23}      0  \n",
       "2011-12-14           {17, 19, 20, 21, 22, 23}      0  \n",
       "2011-12-14             {7, 9, 10, 11, 13, 15}      1  \n",
       "2011-12-15  {0, 2, 3, 4, 5, 6, 8, 20, 22, 23}      0  "
      ]
     },
     "execution_count": 3,
     "metadata": {},
     "output_type": "execute_result"
    }
   ],
   "source": [
    "'''\n",
    "DBSCAN clustering taking into account the spherical earth\n",
    "source: http://geoffboeing.com/2014/08/clustering-to-reduce-spatial-data-set-size/\n",
    "'''\n",
    "\n",
    "from sklearn.cluster import DBSCAN\n",
    "from geopy.distance import great_circle\n",
    "import numpy as np\n",
    "\n",
    "kms_per_radian = 6371.0088\n",
    "epsilon = 1.5 / kms_per_radian\n",
    "minSamples = len(centroids)/20 # Since this is the second pass, we could want to detect vacation spots or such, \n",
    "                               # in this case we might have to lover the min number of sample to 1-2\n",
    "\n",
    "coordinates=centroids[['lat','lon']].values\n",
    "\n",
    "db = DBSCAN(eps=epsilon, min_samples=minSamples, algorithm='ball_tree', metric='haversine').fit(np.radians(coordinates))\n",
    "y = db.labels_\n",
    "print ('List of generated labels for {} clusters: {}'.format(len(set(y)),set(y)))\n",
    "\n",
    "centroids['label'] = y\n",
    "centroids.head(4)"
   ]
  },
  {
   "cell_type": "markdown",
   "metadata": {
    "slideshow": {
     "slide_type": "slide"
    }
   },
   "source": [
    "## Calculation of the overall centroids\n",
    "And we calculate the centroids of those overall clusters."
   ]
  },
  {
   "cell_type": "code",
   "execution_count": 4,
   "metadata": {
    "ExecuteTime": {
     "end_time": "2016-12-08T11:50:32.547201",
     "start_time": "2016-12-08T11:50:32.515409"
    },
    "collapsed": false,
    "slideshow": {
     "slide_type": "slide"
    }
   },
   "outputs": [
    {
     "name": "stdout",
     "output_type": "stream",
     "text": [
      "3 overall centroids of locations kept in \"overallCentroids\".\n"
     ]
    },
    {
     "data": {
      "text/html": [
       "<div>\n",
       "<table border=\"1\" class=\"dataframe\">\n",
       "  <thead>\n",
       "    <tr style=\"text-align: right;\">\n",
       "      <th></th>\n",
       "      <th>lat</th>\n",
       "      <th>lon</th>\n",
       "    </tr>\n",
       "  </thead>\n",
       "  <tbody>\n",
       "    <tr>\n",
       "      <th>0</th>\n",
       "      <td>45.516337</td>\n",
       "      <td>-73.833416</td>\n",
       "    </tr>\n",
       "    <tr>\n",
       "      <th>1</th>\n",
       "      <td>45.499860</td>\n",
       "      <td>-73.667323</td>\n",
       "    </tr>\n",
       "    <tr>\n",
       "      <th>2</th>\n",
       "      <td>45.919177</td>\n",
       "      <td>-74.915494</td>\n",
       "    </tr>\n",
       "  </tbody>\n",
       "</table>\n",
       "</div>"
      ],
      "text/plain": [
       "         lat        lon\n",
       "0  45.516337 -73.833416\n",
       "1  45.499860 -73.667323\n",
       "2  45.919177 -74.915494"
      ]
     },
     "execution_count": 4,
     "metadata": {},
     "output_type": "execute_result"
    }
   ],
   "source": [
    "overallCentroids = pd.DataFrame(columns=['lat','lon'])\n",
    "X = pd.DataFrame(coordinates, columns=['lat','lon'])\n",
    "Y = pd.DataFrame(y, columns=['label'])\n",
    "res = pd.concat([X,Y], axis=1, join='inner')\n",
    "overall_n_clusters = len(set(res['label'])) - (1 if -1 in set(res['label']) else 0)\n",
    "for i in range(overall_n_clusters):\n",
    "    el = res[res['label'] == i].mean(axis=0).drop('label')\n",
    "    overallCentroids = overallCentroids.append(el, ignore_index=True)\n",
    "\n",
    "print('{} overall centroids of locations kept in \"overallCentroids\".'.format(len(overallCentroids)))\n",
    "overallCentroids"
   ]
  },
  {
   "cell_type": "markdown",
   "metadata": {},
   "source": [
    "## Calculation of the presence time per day of the week\n",
    "We calculate when we were present at a clustered location, per hour and day of the week."
   ]
  },
  {
   "cell_type": "code",
   "execution_count": 5,
   "metadata": {
    "ExecuteTime": {
     "end_time": "2016-12-08T11:50:36.841215",
     "start_time": "2016-12-08T11:50:32.549365"
    },
    "collapsed": false
   },
   "outputs": [
    {
     "name": "stdout",
     "output_type": "stream",
     "text": [
      "Home:\n",
      "MON XXXXXXX.........XXXXXXXX\n",
      "TUE XXXXXXX.........XXXXXXXX\n",
      "WED XXXXXXX.........XXXXXXXX\n",
      "THU XXXXXXX.........XXXXXXXX\n",
      "FRI XXXXXXX........XXXXX....\n",
      "SAT ........................\n",
      "SUN .................XXXXXXX\n",
      "\n",
      "Work:\n",
      "MON ......XXXXXXXXXX........\n",
      "TUE ......XXXXXXXXXX........\n",
      "WED ......XXXXXXXXXX........\n",
      "THU ......XXXXXXXXXX........\n",
      "FRI ......XXXXXXXXX.........\n",
      "SAT ........................\n",
      "SUN ........................\n",
      "\n",
      "Cottage:\n",
      "MON ........................\n",
      "TUE ........................\n",
      "WED ........................\n",
      "THU ........................\n",
      "FRI ........................\n",
      "SAT XXXXXXXXXXXXXXXXXXXXXXXX\n",
      "SUN XXXXXXXXXXXXXXXXXXXX....\n",
      "\n"
     ]
    }
   ],
   "source": [
    "def present(df, label, tintra, tinter):\n",
    "    h = [[item for sublist in df[df.label==label].times.values.tolist() for item in sublist].count(x) for x in range(24)]\n",
    "    t = [[item for sublist in df.times.values.tolist() for item in sublist].count(x) for x in range(24)]\n",
    "    h = list(map(lambda x: 0 if x<max(h)*tintra or max(h)<max(t)*tinter else 1, h))\n",
    "    return h\n",
    "\n",
    "ln=['Home', 'Work', 'Cottage']\n",
    "dw=['MON',\n",
    "    'TUE',\n",
    "    'WED',\n",
    "    'THU',\n",
    "    'FRI',\n",
    "    'SAT',\n",
    "    'SUN']\n",
    "presence = []\n",
    "ptext = []\n",
    "for l in range(len(ln)):\n",
    "    print('{}:'.format(ln[l]))\n",
    "    p = []\n",
    "    pt = ''\n",
    "    for dow in range(7):\n",
    "        h = present(centroids[(centroids.index.dayofweek==dow)], l, 0.5, 0.5)\n",
    "        p.append(h)\n",
    "        t = ''.join(['X' if i else '.' for i in h])\n",
    "        pt += '{} {}\\n'.format(dw[dow],t)\n",
    "    print(pt)\n",
    "    presence.append(p)\n",
    "    ptext.append(pt)"
   ]
  },
  {
   "cell_type": "markdown",
   "metadata": {
    "slideshow": {
     "slide_type": "slide"
    }
   },
   "source": [
    "## Display the clusters locations on the map\n",
    "We can now print those clusters centroids on a map and verify that where I spend most time is at home, at work and at my cottage. Because of the way the location was estimated in older Android phones, it happens that the location of my house seems in two distinct spots. Something I noticed before while looking at my location history. But overall, the method correctly found my three main locations."
   ]
  },
  {
   "cell_type": "code",
   "execution_count": 6,
   "metadata": {
    "ExecuteTime": {
     "end_time": "2016-12-08T11:50:37.292995",
     "start_time": "2016-12-08T11:50:36.843968"
    },
    "collapsed": false,
    "scrolled": false,
    "slideshow": {
     "slide_type": "slide"
    }
   },
   "outputs": [
    {
     "data": {
      "text/html": [
       "<div style=\"width:100%;\"><div style=\"position:relative;width:100%;height:0;padding-bottom:60%;\"><iframe src=\"data:text/html;base64,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\" style=\"position:absolute;width:100%;height:100%;left:0;top:0;\"></iframe></div></div>"
      ],
      "text/plain": [
       "<folium.folium.Map at 0x7faf4a7c3978>"
      ]
     },
     "execution_count": 6,
     "metadata": {},
     "output_type": "execute_result"
    }
   ],
   "source": [
    "import folium\n",
    "import numpy as np\n",
    "\n",
    "colorsList = ['red',\n",
    "            'blue',\n",
    "            'green',\n",
    "            'orange',\n",
    "            'purple',\n",
    "            'pink',\n",
    "            'gray',\n",
    "            'cadetblue',\n",
    "            'darkred',\n",
    "            'darkblue',\n",
    "            'darkgreen',\n",
    "            'darkpurple',\n",
    "            'lightgray',\n",
    "            'lightred',\n",
    "            'beige',\n",
    "            'lightgreen',\n",
    "            'lightblue',\n",
    "            'white',\n",
    "            'black']\n",
    "\n",
    "centCoordinates=overallCentroids[['lat','lon']].values\n",
    "\n",
    "m = folium.Map(location=[45.6, -73.8], zoom_start=9)\n",
    "\n",
    "#iframe = folium.element.IFrame(html=html, width=500, height=300)\n",
    "#popup = folium.Popup(iframe, max_width=2650)\n",
    "\n",
    "#folium.Marker([30,-100], popup=popup).add_to(m)\n",
    "\n",
    "for i,r in enumerate(centCoordinates):\n",
    "    color = i\n",
    "    folium.Marker(\n",
    "        location=[r[0], r[1]],\n",
    "        #popup='{}'.format(ptext[i]),\n",
    "        popup=folium.Popup(folium.element.IFrame(html='<code>'+ptext[i].replace('\\n','<br>')+'</code>', width=270, height=150), max_width=2650),\n",
    "        icon=folium.Icon(color=colorsList[color])\n",
    "    ).add_to(m)        \n",
    "\n",
    "m"
   ]
  }
 ],
 "metadata": {
  "celltoolbar": "Slideshow",
  "kernelspec": {
   "display_name": "Python 3",
   "language": "python",
   "name": "python3"
  },
  "language_info": {
   "codemirror_mode": {
    "name": "ipython",
    "version": 3
   },
   "file_extension": ".py",
   "mimetype": "text/x-python",
   "name": "python",
   "nbconvert_exporter": "python",
   "pygments_lexer": "ipython3",
   "version": "3.5.2"
  },
  "toc": {
   "nav_menu": {
    "height": "12px",
    "width": "252px"
   },
   "navigate_menu": true,
   "number_sections": true,
   "sideBar": false,
   "threshold": 4,
   "toc_cell": true,
   "toc_position": {
    "height": "40px",
    "left": "1526px",
    "right": "20px",
    "top": "149px",
    "width": "185px"
   },
   "toc_section_display": "none",
   "toc_window_display": true
  }
 },
 "nbformat": 4,
 "nbformat_minor": 1
}
